{
 "cells": [
  {
   "cell_type": "markdown",
   "metadata": {},
   "source": [
    "# Stock Shares Project"
   ]
  },
  {
   "cell_type": "code",
   "execution_count": 2,
   "metadata": {},
   "outputs": [],
   "source": [
    "import yfinance as yf\n",
    "import pandas as pd\n",
    "import matplotlib_inline   #helps plot graphs directly below the code cells"
   ]
  },
  {
   "cell_type": "code",
   "execution_count": 10,
   "metadata": {},
   "outputs": [],
   "source": [
    "apple=yf.Ticker(\"AAPL\")"
   ]
  },
  {
   "cell_type": "code",
   "execution_count": 12,
   "metadata": {},
   "outputs": [
    {
     "data": {
      "text/plain": [
       "'apple.json'"
      ]
     },
     "execution_count": 12,
     "metadata": {},
     "output_type": "execute_result"
    }
   ],
   "source": [
    "# !wget https://cf-courses-data.s3.us.cloud-object-storage.appdomain.cloud/IBMDeveloperSkillsNetwork-PY0220EN-SkillsNetwork/data/apple.json\n",
    "\n",
    "import wget\n",
    "url= 'https://cf-courses-data.s3.us.cloud-object-storage.appdomain.cloud/IBMDeveloperSkillsNetwork-PY0220EN-SkillsNetwork/data/apple.json'\n",
    "wget.download(url, 'apple.json')"
   ]
  },
  {
   "cell_type": "code",
   "execution_count": 14,
   "metadata": {},
   "outputs": [
    {
     "name": "stdout",
     "output_type": "stream",
     "text": [
      "<class 'dict'>\n"
     ]
    }
   ],
   "source": [
    "import json\n",
    "\n",
    "with open('apple.json') as json_file:\n",
    "    apple_info=json.load(json_file)\n",
    "\n",
    "print(type(apple_info))"
   ]
  },
  {
   "cell_type": "code",
   "execution_count": 15,
   "metadata": {},
   "outputs": [
    {
     "data": {
      "text/plain": [
       "'United States'"
      ]
     },
     "execution_count": 15,
     "metadata": {},
     "output_type": "execute_result"
    }
   ],
   "source": [
    "apple_info['country']"
   ]
  },
  {
   "cell_type": "code",
   "execution_count": 30,
   "metadata": {},
   "outputs": [],
   "source": [
    "apple_share_price_data=apple.history(period='max')"
   ]
  },
  {
   "cell_type": "code",
   "execution_count": 26,
   "metadata": {},
   "outputs": [
    {
     "data": {
      "text/html": [
       "<div>\n",
       "<style scoped>\n",
       "    .dataframe tbody tr th:only-of-type {\n",
       "        vertical-align: middle;\n",
       "    }\n",
       "\n",
       "    .dataframe tbody tr th {\n",
       "        vertical-align: top;\n",
       "    }\n",
       "\n",
       "    .dataframe thead th {\n",
       "        text-align: right;\n",
       "    }\n",
       "</style>\n",
       "<table border=\"1\" class=\"dataframe\">\n",
       "  <thead>\n",
       "    <tr style=\"text-align: right;\">\n",
       "      <th></th>\n",
       "      <th>Open</th>\n",
       "      <th>High</th>\n",
       "      <th>Low</th>\n",
       "      <th>Close</th>\n",
       "      <th>Volume</th>\n",
       "      <th>Dividends</th>\n",
       "      <th>Stock Splits</th>\n",
       "    </tr>\n",
       "    <tr>\n",
       "      <th>Date</th>\n",
       "      <th></th>\n",
       "      <th></th>\n",
       "      <th></th>\n",
       "      <th></th>\n",
       "      <th></th>\n",
       "      <th></th>\n",
       "      <th></th>\n",
       "    </tr>\n",
       "  </thead>\n",
       "  <tbody>\n",
       "    <tr>\n",
       "      <th>2024-07-22 00:00:00-04:00</th>\n",
       "      <td>227.009995</td>\n",
       "      <td>227.779999</td>\n",
       "      <td>223.089996</td>\n",
       "      <td>223.960007</td>\n",
       "      <td>48201800</td>\n",
       "      <td>0.0</td>\n",
       "      <td>0.0</td>\n",
       "    </tr>\n",
       "    <tr>\n",
       "      <th>2024-07-23 00:00:00-04:00</th>\n",
       "      <td>224.369995</td>\n",
       "      <td>226.940002</td>\n",
       "      <td>222.679993</td>\n",
       "      <td>225.009995</td>\n",
       "      <td>39960300</td>\n",
       "      <td>0.0</td>\n",
       "      <td>0.0</td>\n",
       "    </tr>\n",
       "    <tr>\n",
       "      <th>2024-07-24 00:00:00-04:00</th>\n",
       "      <td>224.000000</td>\n",
       "      <td>224.800003</td>\n",
       "      <td>217.130005</td>\n",
       "      <td>218.539993</td>\n",
       "      <td>61777600</td>\n",
       "      <td>0.0</td>\n",
       "      <td>0.0</td>\n",
       "    </tr>\n",
       "    <tr>\n",
       "      <th>2024-07-25 00:00:00-04:00</th>\n",
       "      <td>218.929993</td>\n",
       "      <td>220.850006</td>\n",
       "      <td>214.619995</td>\n",
       "      <td>217.490005</td>\n",
       "      <td>51391200</td>\n",
       "      <td>0.0</td>\n",
       "      <td>0.0</td>\n",
       "    </tr>\n",
       "    <tr>\n",
       "      <th>2024-07-26 00:00:00-04:00</th>\n",
       "      <td>218.699997</td>\n",
       "      <td>219.490005</td>\n",
       "      <td>216.009995</td>\n",
       "      <td>217.960007</td>\n",
       "      <td>41580100</td>\n",
       "      <td>0.0</td>\n",
       "      <td>0.0</td>\n",
       "    </tr>\n",
       "  </tbody>\n",
       "</table>\n",
       "</div>"
      ],
      "text/plain": [
       "                                 Open        High         Low       Close  \\\n",
       "Date                                                                        \n",
       "2024-07-22 00:00:00-04:00  227.009995  227.779999  223.089996  223.960007   \n",
       "2024-07-23 00:00:00-04:00  224.369995  226.940002  222.679993  225.009995   \n",
       "2024-07-24 00:00:00-04:00  224.000000  224.800003  217.130005  218.539993   \n",
       "2024-07-25 00:00:00-04:00  218.929993  220.850006  214.619995  217.490005   \n",
       "2024-07-26 00:00:00-04:00  218.699997  219.490005  216.009995  217.960007   \n",
       "\n",
       "                             Volume  Dividends  Stock Splits  \n",
       "Date                                                          \n",
       "2024-07-22 00:00:00-04:00  48201800        0.0           0.0  \n",
       "2024-07-23 00:00:00-04:00  39960300        0.0           0.0  \n",
       "2024-07-24 00:00:00-04:00  61777600        0.0           0.0  \n",
       "2024-07-25 00:00:00-04:00  51391200        0.0           0.0  \n",
       "2024-07-26 00:00:00-04:00  41580100        0.0           0.0  "
      ]
     },
     "execution_count": 26,
     "metadata": {},
     "output_type": "execute_result"
    }
   ],
   "source": [
    "apple_share_price_data.tail()"
   ]
  },
  {
   "cell_type": "code",
   "execution_count": 31,
   "metadata": {},
   "outputs": [],
   "source": [
    "apple_share_price_data.reset_index(inplace=True)"
   ]
  },
  {
   "cell_type": "code",
   "execution_count": 22,
   "metadata": {},
   "outputs": [
    {
     "data": {
      "text/html": [
       "<div>\n",
       "<style scoped>\n",
       "    .dataframe tbody tr th:only-of-type {\n",
       "        vertical-align: middle;\n",
       "    }\n",
       "\n",
       "    .dataframe tbody tr th {\n",
       "        vertical-align: top;\n",
       "    }\n",
       "\n",
       "    .dataframe thead th {\n",
       "        text-align: right;\n",
       "    }\n",
       "</style>\n",
       "<table border=\"1\" class=\"dataframe\">\n",
       "  <thead>\n",
       "    <tr style=\"text-align: right;\">\n",
       "      <th></th>\n",
       "      <th>Date</th>\n",
       "      <th>Open</th>\n",
       "      <th>High</th>\n",
       "      <th>Low</th>\n",
       "      <th>Close</th>\n",
       "      <th>Volume</th>\n",
       "      <th>Dividends</th>\n",
       "      <th>Stock Splits</th>\n",
       "    </tr>\n",
       "  </thead>\n",
       "  <tbody>\n",
       "    <tr>\n",
       "      <th>10991</th>\n",
       "      <td>2024-07-22 00:00:00-04:00</td>\n",
       "      <td>227.009995</td>\n",
       "      <td>227.779999</td>\n",
       "      <td>223.089996</td>\n",
       "      <td>223.960007</td>\n",
       "      <td>48201800</td>\n",
       "      <td>0.0</td>\n",
       "      <td>0.0</td>\n",
       "    </tr>\n",
       "    <tr>\n",
       "      <th>10992</th>\n",
       "      <td>2024-07-23 00:00:00-04:00</td>\n",
       "      <td>224.369995</td>\n",
       "      <td>226.940002</td>\n",
       "      <td>222.679993</td>\n",
       "      <td>225.009995</td>\n",
       "      <td>39960300</td>\n",
       "      <td>0.0</td>\n",
       "      <td>0.0</td>\n",
       "    </tr>\n",
       "    <tr>\n",
       "      <th>10993</th>\n",
       "      <td>2024-07-24 00:00:00-04:00</td>\n",
       "      <td>224.000000</td>\n",
       "      <td>224.800003</td>\n",
       "      <td>217.130005</td>\n",
       "      <td>218.539993</td>\n",
       "      <td>61777600</td>\n",
       "      <td>0.0</td>\n",
       "      <td>0.0</td>\n",
       "    </tr>\n",
       "    <tr>\n",
       "      <th>10994</th>\n",
       "      <td>2024-07-25 00:00:00-04:00</td>\n",
       "      <td>218.929993</td>\n",
       "      <td>220.850006</td>\n",
       "      <td>214.619995</td>\n",
       "      <td>217.490005</td>\n",
       "      <td>51391200</td>\n",
       "      <td>0.0</td>\n",
       "      <td>0.0</td>\n",
       "    </tr>\n",
       "    <tr>\n",
       "      <th>10995</th>\n",
       "      <td>2024-07-26 00:00:00-04:00</td>\n",
       "      <td>218.699997</td>\n",
       "      <td>219.490005</td>\n",
       "      <td>216.009995</td>\n",
       "      <td>217.960007</td>\n",
       "      <td>41580100</td>\n",
       "      <td>0.0</td>\n",
       "      <td>0.0</td>\n",
       "    </tr>\n",
       "  </tbody>\n",
       "</table>\n",
       "</div>"
      ],
      "text/plain": [
       "                           Date        Open        High         Low  \\\n",
       "10991 2024-07-22 00:00:00-04:00  227.009995  227.779999  223.089996   \n",
       "10992 2024-07-23 00:00:00-04:00  224.369995  226.940002  222.679993   \n",
       "10993 2024-07-24 00:00:00-04:00  224.000000  224.800003  217.130005   \n",
       "10994 2024-07-25 00:00:00-04:00  218.929993  220.850006  214.619995   \n",
       "10995 2024-07-26 00:00:00-04:00  218.699997  219.490005  216.009995   \n",
       "\n",
       "            Close    Volume  Dividends  Stock Splits  \n",
       "10991  223.960007  48201800        0.0           0.0  \n",
       "10992  225.009995  39960300        0.0           0.0  \n",
       "10993  218.539993  61777600        0.0           0.0  \n",
       "10994  217.490005  51391200        0.0           0.0  \n",
       "10995  217.960007  41580100        0.0           0.0  "
      ]
     },
     "execution_count": 22,
     "metadata": {},
     "output_type": "execute_result"
    }
   ],
   "source": [
    "apple_share_price_data.tail()"
   ]
  },
  {
   "cell_type": "code",
   "execution_count": 32,
   "metadata": {},
   "outputs": [
    {
     "data": {
      "text/plain": [
       "<Axes: xlabel='Date'>"
      ]
     },
     "execution_count": 32,
     "metadata": {},
     "output_type": "execute_result"
    },
    {
     "data": {
      "image/png": "[encoded data removed]",
      "text/plain": [
       "<Figure size 640x480 with 1 Axes>"
      ]
     },
     "metadata": {},
     "output_type": "display_data"
    }
   ],
   "source": [
    "apple_share_price_data.plot(x='Date',y='Open')"
   ]
  },
  {
   "cell_type": "code",
   "execution_count": 33,
   "metadata": {},
   "outputs": [
    {
     "data": {
      "text/plain": [
       "Date\n",
       "1987-05-11 00:00:00-04:00    0.000536\n",
       "1987-08-10 00:00:00-04:00    0.000536\n",
       "1987-11-17 00:00:00-05:00    0.000714\n",
       "1988-02-12 00:00:00-05:00    0.000714\n",
       "1988-05-16 00:00:00-04:00    0.000714\n",
       "                               ...   \n",
       "2023-05-12 00:00:00-04:00    0.240000\n",
       "2023-08-11 00:00:00-04:00    0.240000\n",
       "2023-11-10 00:00:00-05:00    0.240000\n",
       "2024-02-09 00:00:00-05:00    0.240000\n",
       "2024-05-10 00:00:00-04:00    0.250000\n",
       "Name: Dividends, Length: 83, dtype: float64"
      ]
     },
     "execution_count": 33,
     "metadata": {},
     "output_type": "execute_result"
    }
   ],
   "source": [
    "apple.dividends"
   ]
  },
  {
   "cell_type": "code",
   "execution_count": 34,
   "metadata": {},
   "outputs": [
    {
     "data": {
      "text/plain": [
       "<Axes: xlabel='Date'>"
      ]
     },
     "execution_count": 34,
     "metadata": {},
     "output_type": "execute_result"
    },
    {
     "data": {
      "image/png": "[encoded data removed]",
      "text/plain": [
       "<Figure size 640x480 with 1 Axes>"
      ]
     },
     "metadata": {},
     "output_type": "display_data"
    }
   ],
   "source": [
    "apple.dividends.plot()"
   ]
  },
  {
   "cell_type": "code",
   "execution_count": 35,
   "metadata": {},
   "outputs": [],
   "source": [
    "amd=yf.Ticker('AMD')"
   ]
  },
  {
   "cell_type": "code",
   "execution_count": 38,
   "metadata": {},
   "outputs": [
    {
     "data": {
      "text/plain": [
       "'amd (1).json'"
      ]
     },
     "execution_count": 38,
     "metadata": {},
     "output_type": "execute_result"
    }
   ],
   "source": [
    "url2=' https://cf-courses-data.s3.us.cloud-object-storage.appdomain.cloud/IBMDeveloperSkillsNetwork-PY0220EN-SkillsNetwork/data/amd.json'\n",
    "\n",
    "wget.download(url2,\"amd.json\")"
   ]
  },
  {
   "cell_type": "code",
   "execution_count": 41,
   "metadata": {},
   "outputs": [
    {
     "name": "stdout",
     "output_type": "stream",
     "text": [
      "{'zip': '95054', 'sector': 'Technology', 'fullTimeEmployees': 15500, 'longBusinessSummary': 'Advanced Micro Devices, Inc. operates as a semiconductor company worldwide. The company operates in two segments, Computing and Graphics; and Enterprise, Embedded and Semi-Custom. Its products include x86 microprocessors as an accelerated processing unit, chipsets, discrete and integrated graphics processing units (GPUs), data center and professional GPUs, and development services; and server and embedded processors, and semi-custom System-on-Chip (SoC) products, development services, and technology for game consoles. The company provides processors for desktop and notebook personal computers under the AMD Ryzen, AMD Ryzen PRO, Ryzen Threadripper, Ryzen Threadripper PRO, AMD Athlon, AMD Athlon PRO, AMD FX, AMD A-Series, and AMD PRO A-Series processors brands; discrete GPUs for desktop and notebook PCs under the AMD Radeon graphics, AMD Embedded Radeon graphics brands; and professional graphics products under the AMD Radeon Pro and AMD FirePro graphics brands. It also offers Radeon Instinct, Radeon PRO V-series, and AMD Instinct accelerators for servers; chipsets under the AMD trademark; microprocessors for servers under the AMD EPYC; embedded processor solutions under the AMD Athlon, AMD Geode, AMD Ryzen, AMD EPYC, AMD R-Series, and G-Series processors brands; and customer-specific solutions based on AMD CPU, GPU, and multi-media technologies, as well as semi-custom SoC products. It serves original equipment manufacturers, public cloud service providers, original design manufacturers, system integrators, independent distributors, online retailers, and add-in-board manufacturers through its direct sales force, independent distributors, and sales representatives. The company was incorporated in 1969 and is headquartered in Santa Clara, California.', 'city': 'Santa Clara', 'phone': '408 749 4000', 'state': 'CA', 'country': 'United States', 'companyOfficers': [], 'website': 'https://www.amd.com', 'maxAge': 1, 'address1': '2485 Augustine Drive', 'industry': 'Semiconductors', 'ebitdaMargins': 0.24674, 'profitMargins': 0.19240999, 'grossMargins': 0.48248002, 'operatingCashflow': 3520999936, 'revenueGrowth': 0.488, 'operatingMargins': 0.22198, 'ebitda': 4055000064, 'targetLowPrice': 107, 'recommendationKey': 'buy', 'grossProfits': 7929000000, 'freeCashflow': 3122749952, 'targetMedianPrice': 150, 'currentPrice': 119.22, 'earningsGrowth': -0.454, 'currentRatio': 2.024, 'returnOnAssets': 0.21327, 'numberOfAnalystOpinions': 38, 'targetMeanPrice': 152.02, 'debtToEquity': 9.764, 'returnOnEquity': 0.47428, 'targetHighPrice': 200, 'totalCash': 3608000000, 'totalDebt': 732000000, 'totalRevenue': 16433999872, 'totalCashPerShare': 3.008, 'financialCurrency': 'USD', 'revenuePerShare': 13.548, 'quickRatio': 1.49, 'recommendationMean': 2.2, 'exchange': 'NMS', 'shortName': 'Advanced Micro Devices, Inc.', 'longName': 'Advanced Micro Devices, Inc.', 'exchangeTimezoneName': 'America/New_York', 'exchangeTimezoneShortName': 'EDT', 'isEsgPopulated': False, 'gmtOffSetMilliseconds': '-14400000', 'quoteType': 'EQUITY', 'symbol': 'AMD', 'messageBoardId': 'finmb_168864', 'market': 'us_market', 'annualHoldingsTurnover': None, 'enterpriseToRevenue': 8.525, 'beta3Year': None, 'enterpriseToEbitda': 34.551, '52WeekChange': 0.51966953, 'morningStarRiskRating': None, 'forwardEps': 4.72, 'revenueQuarterlyGrowth': None, 'sharesOutstanding': 1627360000, 'fundInceptionDate': None, 'annualReportExpenseRatio': None, 'totalAssets': None, 'bookValue': 6.211, 'sharesShort': 27776129, 'sharesPercentSharesOut': 0.0171, 'fundFamily': None, 'lastFiscalYearEnd': 1640390400, 'heldPercentInstitutions': 0.52896, 'netIncomeToCommon': 3161999872, 'trailingEps': 2.57, 'lastDividendValue': 0.005, 'SandP52WeekChange': 0.15217662, 'priceToBook': 19.194977, 'heldPercentInsiders': 0.00328, 'nextFiscalYearEnd': 1703462400, 'yield': None, 'mostRecentQuarter': 1640390400, 'shortRatio': 0.24, 'sharesShortPreviousMonthDate': 1644883200, 'floatShares': 1193798619, 'beta': 1.848425, 'enterpriseValue': 140104957952, 'priceHint': 2, 'threeYearAverageReturn': None, 'lastSplitDate': 966902400, 'lastSplitFactor': '2:1', 'legalType': None, 'lastDividendDate': 798940800, 'morningStarOverallRating': None, 'earningsQuarterlyGrowth': -0.453, 'priceToSalesTrailing12Months': 11.805638, 'dateShortInterest': 1647302400, 'pegRatio': 0.99, 'ytdReturn': None, 'forwardPE': 25.258476, 'lastCapGain': None, 'shortPercentOfFloat': 0.0171, 'sharesShortPriorMonth': 88709340, 'impliedSharesOutstanding': 0, 'category': None, 'fiveYearAverageReturn': None, 'previousClose': 123.23, 'regularMarketOpen': 123.04, 'twoHundredDayAverage': 116.6998, 'trailingAnnualDividendYield': 0, 'payoutRatio': 0, 'volume24Hr': None, 'regularMarketDayHigh': 125.66, 'navPrice': None, 'averageDailyVolume10Day': 102167370, 'regularMarketPreviousClose': 123.23, 'fiftyDayAverage': 115.95, 'trailingAnnualDividendRate': 0, 'open': 123.04, 'toCurrency': None, 'averageVolume10days': 102167370, 'expireDate': None, 'algorithm': None, 'dividendRate': None, 'exDividendDate': 798940800, 'circulatingSupply': None, 'startDate': None, 'regularMarketDayLow': 118.59, 'currency': 'USD', 'trailingPE': 46.389107, 'regularMarketVolume': 99476946, 'lastMarket': None, 'maxSupply': None, 'openInterest': None, 'marketCap': 194013855744, 'volumeAllCurrencies': None, 'strikePrice': None, 'averageVolume': 102428813, 'dayLow': 118.59, 'ask': 117.24, 'askSize': 1100, 'volume': 99476946, 'fiftyTwoWeekHigh': 164.46, 'fromCurrency': None, 'fiveYearAvgDividendYield': None, 'fiftyTwoWeekLow': 72.5, 'bid': 117.24, 'tradeable': False, 'dividendYield': None, 'bidSize': 900, 'dayHigh': 125.66, 'regularMarketPrice': 119.22, 'preMarketPrice': 116.98, 'logo_url': 'https://logo.clearbit.com/amd.com'}\n"
     ]
    }
   ],
   "source": [
    "with open('amd.json') as json_file2:\n",
    "    amd_info=json.load(json_file2)\n",
    "\n",
    "print(amd_info)"
   ]
  },
  {
   "cell_type": "code",
   "execution_count": 43,
   "metadata": {},
   "outputs": [],
   "source": [
    "amd_info_table=amd.history(period='max')\n"
   ]
  },
  {
   "cell_type": "code",
   "execution_count": 44,
   "metadata": {},
   "outputs": [],
   "source": [
    "amd_info_table.reset_index(inplace=True)"
   ]
  },
  {
   "cell_type": "code",
   "execution_count": 45,
   "metadata": {},
   "outputs": [
    {
     "data": {
      "text/plain": [
       "<Axes: xlabel='Date'>"
      ]
     },
     "execution_count": 45,
     "metadata": {},
     "output_type": "execute_result"
    },
    {
     "data": {
      "image/png": "[encoded data removed]",
      "text/plain": [
       "<Figure size 640x480 with 1 Axes>"
      ]
     },
     "metadata": {},
     "output_type": "display_data"
    }
   ],
   "source": [
    "amd_info_table.plot(x='Date',y='Open')"
   ]
  }
 ],
 "metadata": {
  "kernelspec": {
   "display_name": "Python 3",
   "language": "python",
   "name": "python3"
  },
  "language_info": {
   "codemirror_mode": {
    "name": "ipython",
    "version": 3
   },
   "file_extension": ".py",
   "mimetype": "text/x-python",
   "name": "python",
   "nbconvert_exporter": "python",
   "pygments_lexer": "ipython3",
   "version": "3.11.9"
  }
 },
 "nbformat": 4,
 "nbformat_minor": 2
}
